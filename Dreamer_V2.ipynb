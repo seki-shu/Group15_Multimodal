{
  "nbformat": 4,
  "nbformat_minor": 0,
  "metadata": {
    "colab": {
      "provenance": [],
      "authorship_tag": "ABX9TyMpN0Q6Q5VaTxQtifA1bKiG",
      "include_colab_link": true
    },
    "kernelspec": {
      "name": "python3",
      "display_name": "Python 3"
    },
    "language_info": {
      "name": "python"
    }
  },
  "cells": [
    {
      "cell_type": "markdown",
      "metadata": {
        "id": "view-in-github",
        "colab_type": "text"
      },
      "source": [
        "<a href=\"https://colab.research.google.com/github/seki-shu/Group15_Multimodal/blob/Dreamer-V2/Dreamer_V2.ipynb\" target=\"_parent\"><img src=\"https://colab.research.google.com/assets/colab-badge.svg\" alt=\"Open In Colab\"/></a>"
      ]
    },
    {
      "cell_type": "markdown",
      "source": [
        "# 準備"
      ],
      "metadata": {
        "id": "TfdWO2_f_ZwM"
      }
    },
    {
      "cell_type": "markdown",
      "source": [
        "## libraryのimport"
      ],
      "metadata": {
        "id": "0GIGUoGO-vBR"
      }
    },
    {
      "cell_type": "code",
      "source": [
        "import torch\n",
        "from torch import nn\n",
        "from torch.nn import functional as F"
      ],
      "metadata": {
        "id": "6IyU5N79-2YU"
      },
      "execution_count": null,
      "outputs": []
    },
    {
      "cell_type": "markdown",
      "source": [
        "## deviceの確認"
      ],
      "metadata": {
        "id": "eKy-1uif_TRb"
      }
    },
    {
      "cell_type": "code",
      "source": [
        "# torch.deviceを定義．この変数は後々モデルやデータをGPUに転送する時にも使います\n",
        "device = torch.device(\"cuda\" if torch.cuda.is_available() else \"cpu\")\n",
        "print(device)"
      ],
      "metadata": {
        "id": "ogLmXvsB_gPs"
      },
      "execution_count": null,
      "outputs": []
    },
    {
      "cell_type": "markdown",
      "source": [
        "# モデルの実装\n"
      ],
      "metadata": {
        "id": "OpdMlxUpvtI7"
      }
    },
    {
      "cell_type": "markdown",
      "source": [
        "## RSSM"
      ],
      "metadata": {
        "id": "Ucy9NSR8vxgV"
      }
    },
    {
      "cell_type": "code",
      "source": [
        "class RSSM(nn.Module):\n",
        "    def __init__(\n",
        "        self,\n",
        "        mlp_hidden_dim: int,\n",
        "        h_dim: int,\n",
        "        z_dim: int,\n",
        "        a_dim: int,\n",
        "        n_classes: int,\n",
        "        embedding_dim: int\n",
        "    )\n",
        "    super().__init__()\n",
        "\n",
        "    self.h_dim = h_dim # 決定的状態. stoch\n",
        "    self.z_dim = z_dim # 確率的状態(カテゴリカル変数). deter\n",
        "    self.a_dim = a_dim # 行動\n",
        "    self.n_classes = n_classes # zのカテゴリ数\n",
        "\n",
        "    # Recurrent model\n",
        "    # h_t = f(h_t-1, z_t-1, a_t-1)\n",
        "    self.z_a_hidden = nn.Linear(z_dim * n_classes + a_dim, mlp_hidden_dim)\n",
        "    self.rnn = nn.GRUCell(mlp_hidden_dim, h_dim)\n",
        "\n",
        "    # Prior prediction\n",
        "    # z_t+1_hat = f(h_t+1)\n",
        "    self.prior_hidden = nn.Linear(h_dim, mlp_hidden_dim)\n",
        "    self.prior_logits = nn.Linear(mlp_hidden_dim, z_dim * n_classes)\n",
        "\n",
        "    # Posterior\n",
        "    # z_t+1 = f(h_t+1, o_t+1)\n",
        "    self.posterior_hidden = nn.Linear(h_dim + embedding_dim, mlp_hidden_dim) # competition_baselineのほうではembedding_dimがなぜかハードコーディングされてた\n",
        "    self.posterior_logits = nn.Linear(mlp_hidden_dim, z_dim * n_classes)"
      ],
      "metadata": {
        "id": "zEnpQhwuv2ct"
      },
      "execution_count": null,
      "outputs": []
    }
  ]
}