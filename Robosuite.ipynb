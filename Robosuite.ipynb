{
  "cells": [
    {
      "cell_type": "markdown",
      "metadata": {
        "id": "view-in-github",
        "colab_type": "text"
      },
      "source": [
        "<a href=\"https://colab.research.google.com/github/seki-shu/Group15_Multimodal/blob/Robosuite/Robosuite.ipynb\" target=\"_parent\"><img src=\"https://colab.research.google.com/assets/colab-badge.svg\" alt=\"Open In Colab\"/></a>"
      ]
    },
    {
      "cell_type": "markdown",
      "source": [
        "# Robosuiteの基本"
      ],
      "metadata": {
        "id": "1CbW2mmNQhfu"
      }
    },
    {
      "cell_type": "markdown",
      "source": [
        "## Import libraries"
      ],
      "metadata": {
        "id": "vDAh6I4iQq_D"
      }
    },
    {
      "cell_type": "code",
      "source": [
        "%pip install robosuite\n",
        "\n",
        "import robosuite as suite\n",
        "import time\n",
        "import pandas as pd\n",
        "import matplotlib.pyplot as plt\n",
        "import moviepy.editor as mpy\n",
        "from base64 import b64encode\n",
        "from IPython.display import HTML\n",
        "from google.colab import files\n",
        "import uuid, shutil\n",
        "from typing import List\n",
        "import numpy as np\n",
        "\n",
        "import os"
      ],
      "metadata": {
        "collapsed": true,
        "id": "08DJzYzDQ05V"
      },
      "execution_count": null,
      "outputs": []
    },
    {
      "cell_type": "markdown",
      "source": [
        "## シミュレーション環境の初期化"
      ],
      "metadata": {
        "id": "iwUgFe9fQ_Zj"
      }
    },
    {
      "cell_type": "code",
      "source": [
        "# 環境の初期化\n",
        "env = suite.make(\n",
        "    env_name=\"Lift\",  # タスク名（Liftタスク）\n",
        "    robots=\"Panda\",   # 使用するロボット（Pandaロボット）\n",
        "    has_renderer=False,  # リアルタイムレンダリングを無効にする\n",
        "    use_camera_obs=True  # カメラ観測を使用する\n",
        ")\n",
        "# 環境のリセット\n",
        "obs = env.reset()\n"
      ],
      "metadata": {
        "id": "fn5jiyJQREpU"
      },
      "execution_count": null,
      "outputs": []
    },
    {
      "cell_type": "markdown",
      "source": [
        "## アクションの実行"
      ],
      "metadata": {
        "id": "qoCpeMfWRQTu"
      }
    },
    {
      "cell_type": "code",
      "source": [
        "# アクションスペックを取得\n",
        "action_spec = env.action_spec\n",
        "\n",
        "# アクションの最小値と最大値を取得\n",
        "low, high = action_spec\n",
        "\n",
        "# ランダムなアクションを生成\n",
        "action = np.random.uniform(low, high)\n",
        "\n",
        "# アクションを実行し、次の状態、報酬、終了フラグ、情報を取得\n",
        "obs, reward, done, info = env.step(action)\n",
        "\n",
        "# 実行結果を表示\n",
        "print(\"Observation:\", obs.keys())\n",
        "print(\"Observation:\", obs[\"cube_quat\"])\n",
        "plt.imshow(obs[\"agentview_image\"]); plt.show()\n",
        "print(\"Reward:\", reward)\n",
        "print(\"Done:\", done)"
      ],
      "metadata": {
        "id": "qeYD8pi4ROvf"
      },
      "execution_count": null,
      "outputs": []
    },
    {
      "cell_type": "markdown",
      "metadata": {
        "id": "TfdWO2_f_ZwM"
      },
      "source": [
        "# マルチモーダル情報を扱えるRobosuite"
      ]
    },
    {
      "cell_type": "markdown",
      "metadata": {
        "id": "0GIGUoGO-vBR"
      },
      "source": [
        "## Import libraries"
      ]
    },
    {
      "cell_type": "code",
      "execution_count": null,
      "metadata": {
        "id": "6IyU5N79-2YU",
        "collapsed": true
      },
      "outputs": [],
      "source": [
        "%pip install robosuite\n",
        "%pip install gymnasium\n",
        "\n",
        "import torch\n",
        "from torch import nn\n",
        "from torch.nn import functional as F\n",
        "import torch.distributions as td\n",
        "from torch.distributions import Normal, Categorical, OneHotCategorical, OneHotCategoricalStraightThrough, Bernoulli\n",
        "from torch.distributions import kl_divergence\n",
        "import robosuite as suite\n",
        "from robosuite.wrappers.gym_wrapper import GymWrapper\n",
        "\n",
        "import numpy as np\n",
        "\n",
        "import os"
      ]
    },
    {
      "cell_type": "markdown",
      "metadata": {
        "id": "_yZTuWAF2rQe"
      },
      "source": [
        "## シミュレーション環境の初期化"
      ]
    },
    {
      "cell_type": "code",
      "execution_count": null,
      "metadata": {
        "id": "Mx90HP_L2rQe"
      },
      "outputs": [],
      "source": [
        "# 環境の初期化\n",
        "env = suite.make(\n",
        "    env_name=\"PickPlace\",  # タスク名\n",
        "    robots=\"Panda\",   # 使用するロボット\n",
        "    has_renderer=False,  # リアルタイムレンダリング\n",
        "    has_offscreen_renderer=True,  # オフスクリーンレンダリング\n",
        "    use_camera_obs=True,  # カメラ情報を使用\n",
        "    camera_names=[\"frontview\", \"robot0_eye_in_hand\"],  # 複数カメラ\n",
        "    camera_heights=84,  # カメラ画像の高さ\n",
        "    camera_widths=84,  # カメラ画像の幅\n",
        "    camera_depths=False,  # 深度画像をオフ\n",
        "    use_object_obs=True,  # オブジェクト情報を使用\n",
        "    use_force_sensor=True\n",
        ")\n",
        "\n",
        "# GymWrapperを使ってOpenAI Gym互換インターフェースに変換\n",
        "# env = GymWrapper(env)\n",
        "\n",
        "# 環境のリセット\n",
        "obs = env.reset()\n",
        "# 環境の初期状態（力覚データを含む場合、\"robot0_eef_force\"を確認）\n",
        "print(\"Observation:\", obs.keys())  # 力覚データが含まれていることを確認"
      ]
    },
    {
      "cell_type": "markdown",
      "metadata": {
        "id": "-CxOnj3kzOe5"
      },
      "source": [
        "## マルチモーダルデータの取得"
      ]
    },
    {
      "cell_type": "code",
      "execution_count": null,
      "metadata": {
        "id": "H8KvY313zS7c"
      },
      "outputs": [],
      "source": [
        "low, high = env.action_spec\n",
        "\n",
        "# ランダムなアクションを生成\n",
        "action = np.random.uniform(low=low, high=high, size=low.shape)\n",
        "\n",
        "# 環境を1ステップ進める\n",
        "obs, reward, done, info = env.step(action)\n",
        "\n",
        "# 取得可能な情報を表示\n",
        "print(\"Camera Observation:\", obs[\"frontview_image\"].shape)  # カメラ画像\n",
        "# print(\"Force Sensor Data:\", obs[\"robot0_eef_force\"])  # 力覚データ\n",
        "print(\"Object Position:\", obs[\"cube_pos\"])  # オブジェクトの位置"
      ]
    }
  ],
  "metadata": {
    "colab": {
      "provenance": [],
      "toc_visible": true,
      "gpuType": "T4",
      "include_colab_link": true
    },
    "kernelspec": {
      "display_name": "Python 3",
      "name": "python3"
    },
    "language_info": {
      "codemirror_mode": {
        "name": "ipython",
        "version": 3
      },
      "file_extension": ".py",
      "mimetype": "text/x-python",
      "name": "python",
      "nbconvert_exporter": "python",
      "pygments_lexer": "ipython3",
      "version": "3.11.7"
    },
    "accelerator": "GPU"
  },
  "nbformat": 4,
  "nbformat_minor": 0
}