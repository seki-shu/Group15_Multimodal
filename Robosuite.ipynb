{
  "cells": [
    {
      "cell_type": "markdown",
      "metadata": {
        "id": "view-in-github",
        "colab_type": "text"
      },
      "source": [
        "<a href=\"https://colab.research.google.com/github/seki-shu/Group15_Multimodal/blob/Robosuite/Robosuite.ipynb\" target=\"_parent\"><img src=\"https://colab.research.google.com/assets/colab-badge.svg\" alt=\"Open In Colab\"/></a>"
      ]
    },
    {
      "cell_type": "markdown",
      "source": [
        "# Robosuiteの基本"
      ],
      "metadata": {
        "id": "1CbW2mmNQhfu"
      }
    },
    {
      "cell_type": "markdown",
      "source": [
        "## Import libraries"
      ],
      "metadata": {
        "id": "vDAh6I4iQq_D"
      }
    },
    {
      "cell_type": "code",
      "source": [
        "%pip install robosuite\n",
        "\n",
        "import robosuite as suite\n",
        "import time\n",
        "import pandas as pd\n",
        "import matplotlib.pyplot as plt\n",
        "import moviepy.editor as mpy\n",
        "from base64 import b64encode\n",
        "from IPython.display import HTML\n",
        "from google.colab import files\n",
        "import uuid, shutil\n",
        "from typing import List\n",
        "import numpy as np\n",
        "\n",
        "import os"
      ],
      "metadata": {
        "collapsed": true,
        "id": "08DJzYzDQ05V",
        "outputId": "1f616855-6358-4419-e40b-52ed693669e8",
        "colab": {
          "base_uri": "https://localhost:8080/"
        }
      },
      "execution_count": 4,
      "outputs": [
        {
          "output_type": "stream",
          "name": "stdout",
          "text": [
            "Requirement already satisfied: robosuite in /usr/local/lib/python3.10/dist-packages (1.5.0)\n",
            "Requirement already satisfied: numpy>=1.13.3 in /usr/local/lib/python3.10/dist-packages (from robosuite) (1.26.4)\n",
            "Requirement already satisfied: numba>=0.49.1 in /usr/local/lib/python3.10/dist-packages (from robosuite) (0.60.0)\n",
            "Requirement already satisfied: scipy>=1.2.3 in /usr/local/lib/python3.10/dist-packages (from robosuite) (1.13.1)\n",
            "Requirement already satisfied: mujoco>=3.2.3 in /usr/local/lib/python3.10/dist-packages (from robosuite) (3.2.6)\n",
            "Requirement already satisfied: mink>=0.0.5 in /usr/local/lib/python3.10/dist-packages (from robosuite) (0.0.5)\n",
            "Requirement already satisfied: Pillow in /usr/local/lib/python3.10/dist-packages (from robosuite) (11.0.0)\n",
            "Requirement already satisfied: opencv-python in /usr/local/lib/python3.10/dist-packages (from robosuite) (4.10.0.84)\n",
            "Requirement already satisfied: pynput in /usr/local/lib/python3.10/dist-packages (from robosuite) (1.7.7)\n",
            "Requirement already satisfied: termcolor in /usr/local/lib/python3.10/dist-packages (from robosuite) (2.5.0)\n",
            "Requirement already satisfied: pytest in /usr/local/lib/python3.10/dist-packages (from robosuite) (8.3.4)\n",
            "Requirement already satisfied: qpsolvers>=4.3.1 in /usr/local/lib/python3.10/dist-packages (from qpsolvers[quadprog]>=4.3.1->mink>=0.0.5->robosuite) (4.4.0)\n",
            "Requirement already satisfied: typing_extensions in /usr/local/lib/python3.10/dist-packages (from mink>=0.0.5->robosuite) (4.12.2)\n",
            "Requirement already satisfied: absl-py in /usr/local/lib/python3.10/dist-packages (from mujoco>=3.2.3->robosuite) (1.4.0)\n",
            "Requirement already satisfied: etils[epath] in /usr/local/lib/python3.10/dist-packages (from mujoco>=3.2.3->robosuite) (1.11.0)\n",
            "Requirement already satisfied: glfw in /usr/local/lib/python3.10/dist-packages (from mujoco>=3.2.3->robosuite) (2.8.0)\n",
            "Requirement already satisfied: pyopengl in /usr/local/lib/python3.10/dist-packages (from mujoco>=3.2.3->robosuite) (3.1.7)\n",
            "Requirement already satisfied: llvmlite<0.44,>=0.43.0dev0 in /usr/local/lib/python3.10/dist-packages (from numba>=0.49.1->robosuite) (0.43.0)\n",
            "Requirement already satisfied: six in /usr/local/lib/python3.10/dist-packages (from pynput->robosuite) (1.17.0)\n",
            "Requirement already satisfied: evdev>=1.3 in /usr/local/lib/python3.10/dist-packages (from pynput->robosuite) (1.7.1)\n",
            "Requirement already satisfied: python-xlib>=0.17 in /usr/local/lib/python3.10/dist-packages (from pynput->robosuite) (0.33)\n",
            "Requirement already satisfied: exceptiongroup>=1.0.0rc8 in /usr/local/lib/python3.10/dist-packages (from pytest->robosuite) (1.2.2)\n",
            "Requirement already satisfied: iniconfig in /usr/local/lib/python3.10/dist-packages (from pytest->robosuite) (2.0.0)\n",
            "Requirement already satisfied: packaging in /usr/local/lib/python3.10/dist-packages (from pytest->robosuite) (24.2)\n",
            "Requirement already satisfied: pluggy<2,>=1.5 in /usr/local/lib/python3.10/dist-packages (from pytest->robosuite) (1.5.0)\n",
            "Requirement already satisfied: tomli>=1 in /usr/local/lib/python3.10/dist-packages (from pytest->robosuite) (2.2.1)\n",
            "Requirement already satisfied: quadprog>=0.1.11 in /usr/local/lib/python3.10/dist-packages (from qpsolvers[quadprog]>=4.3.1->mink>=0.0.5->robosuite) (0.1.13)\n",
            "Requirement already satisfied: fsspec in /usr/local/lib/python3.10/dist-packages (from etils[epath]->mujoco>=3.2.3->robosuite) (2024.10.0)\n",
            "Requirement already satisfied: importlib_resources in /usr/local/lib/python3.10/dist-packages (from etils[epath]->mujoco>=3.2.3->robosuite) (6.4.5)\n",
            "Requirement already satisfied: zipp in /usr/local/lib/python3.10/dist-packages (from etils[epath]->mujoco>=3.2.3->robosuite) (3.21.0)\n"
          ]
        },
        {
          "output_type": "stream",
          "name": "stderr",
          "text": [
            "WARNING:py.warnings:/usr/local/lib/python3.10/dist-packages/moviepy/video/io/sliders.py:61: SyntaxWarning: \"is\" with a literal. Did you mean \"==\"?\n",
            "  if event.key is 'enter':\n",
            "\n"
          ]
        }
      ]
    },
    {
      "cell_type": "markdown",
      "source": [
        "## シミュレーション環境の初期化"
      ],
      "metadata": {
        "id": "iwUgFe9fQ_Zj"
      }
    },
    {
      "cell_type": "code",
      "source": [
        "# 環境の初期化\n",
        "env = suite.make(\n",
        "    env_name=\"Lift\",  # タスク名（Liftタスク）\n",
        "    robots=\"Panda\",   # 使用するロボット（Pandaロボット）\n",
        "    has_renderer=False,  # リアルタイムレンダリングを有効にする\n",
        "    use_camera_obs=True  # カメラ観測を使用しない\n",
        ")\n",
        "# 環境のリセット\n",
        "obs = env.reset()\n"
      ],
      "metadata": {
        "id": "fn5jiyJQREpU",
        "outputId": "0e14ebeb-105f-4df9-ceb5-294d68dde39f",
        "colab": {
          "base_uri": "https://localhost:8080/"
        }
      },
      "execution_count": 10,
      "outputs": [
        {
          "output_type": "stream",
          "name": "stderr",
          "text": [
            "[robosuite INFO] Loading controller configuration from: /usr/local/lib/python3.10/dist-packages/robosuite/controllers/config/robots/default_panda.json (composite_controller_factory.py:69)\n",
            "INFO:robosuite_logs:Loading controller configuration from: /usr/local/lib/python3.10/dist-packages/robosuite/controllers/config/robots/default_panda.json\n",
            "[robosuite INFO] Loading controller configuration from: /usr/local/lib/python3.10/dist-packages/robosuite/controllers/config/robots/default_panda.json (composite_controller_factory.py:69)\n",
            "INFO:robosuite_logs:Loading controller configuration from: /usr/local/lib/python3.10/dist-packages/robosuite/controllers/config/robots/default_panda.json\n"
          ]
        }
      ]
    },
    {
      "cell_type": "markdown",
      "source": [
        "## アクションの実行"
      ],
      "metadata": {
        "id": "qoCpeMfWRQTu"
      }
    },
    {
      "cell_type": "code",
      "source": [
        "# アクションスペックを取得\n",
        "action_spec = env.action_spec\n",
        "\n",
        "# アクションの最小値と最大値を取得\n",
        "low, high = action_spec\n",
        "\n",
        "# ランダムなアクションを生成\n",
        "action = np.random.uniform(low, high)\n",
        "\n",
        "# アクションを実行し、次の状態、報酬、終了フラグ、情報を取得\n",
        "obs, reward, done, info = env.step(action)\n",
        "\n",
        "# 実行結果を表示\n",
        "print(\"Observation:\", obs.keys())\n",
        "plt.imshow(obs[\"agentview_image\"]); plt.show()\n",
        "print(\"Reward:\", reward)\n",
        "print(\"Done:\", done)"
      ],
      "metadata": {
        "id": "qeYD8pi4ROvf",
        "outputId": "c60a5b9d-dc1a-41c4-e9b8-c92bc2f7d42e",
        "colab": {
          "base_uri": "https://localhost:8080/",
          "height": 507
        }
      },
      "execution_count": 12,
      "outputs": [
        {
          "output_type": "stream",
          "name": "stdout",
          "text": [
            "Observation: odict_keys(['robot0_joint_pos_cos', 'robot0_joint_pos_sin', 'robot0_joint_vel', 'robot0_eef_pos', 'robot0_eef_quat', 'robot0_eef_quat_site', 'robot0_gripper_qpos', 'robot0_gripper_qvel', 'agentview_image', 'cube_pos', 'cube_quat', 'gripper_to_cube_pos', 'robot0_proprio-state', 'object-state'])\n"
          ]
        },
        {
          "output_type": "display_data",
          "data": {
            "text/plain": [
              "<Figure size 640x480 with 1 Axes>"
            ],
            "image/png": "[encoded data removed]"
          },
          "metadata": {}
        },
        {
          "output_type": "stream",
          "name": "stdout",
          "text": [
            "Reward: 0.0\n",
            "Done: False\n"
          ]
        }
      ]
    },
    {
      "cell_type": "markdown",
      "metadata": {
        "id": "TfdWO2_f_ZwM"
      },
      "source": [
        "# マルチモーダル情報を扱えるRobosuite"
      ]
    },
    {
      "cell_type": "markdown",
      "metadata": {
        "id": "0GIGUoGO-vBR"
      },
      "source": [
        "## Import libraries"
      ]
    },
    {
      "cell_type": "code",
      "execution_count": null,
      "metadata": {
        "id": "6IyU5N79-2YU",
        "collapsed": true
      },
      "outputs": [],
      "source": [
        "%pip install robosuite\n",
        "%pip install gymnasium\n",
        "\n",
        "import torch\n",
        "from torch import nn\n",
        "from torch.nn import functional as F\n",
        "import torch.distributions as td\n",
        "from torch.distributions import Normal, Categorical, OneHotCategorical, OneHotCategoricalStraightThrough, Bernoulli\n",
        "from torch.distributions import kl_divergence\n",
        "import robosuite as suite\n",
        "from robosuite.wrappers.gym_wrapper import GymWrapper\n",
        "\n",
        "import numpy as np\n",
        "\n",
        "import os"
      ]
    },
    {
      "cell_type": "markdown",
      "metadata": {
        "id": "_yZTuWAF2rQe"
      },
      "source": [
        "## Liftタスクの設定"
      ]
    },
    {
      "cell_type": "code",
      "execution_count": null,
      "metadata": {
        "id": "Mx90HP_L2rQe"
      },
      "outputs": [],
      "source": [
        "# 環境の初期化\n",
        "env = suite.make(\n",
        "    env_name=\"PickPlace\",  # タスク名\n",
        "    robots=\"Panda\",   # 使用するロボット\n",
        "    has_renderer=False,  # リアルタイムレンダリング\n",
        "    has_offscreen_renderer=True,  # オフスクリーンレンダリング\n",
        "    use_camera_obs=True,  # カメラ情報を使用\n",
        "    camera_names=[\"frontview\", \"robot0_eye_in_hand\"],  # 複数カメラ\n",
        "    camera_heights=84,  # カメラ画像の高さ\n",
        "    camera_widths=84,  # カメラ画像の幅\n",
        "    camera_depths=False,  # 深度画像をオフ\n",
        "    use_object_obs=True,  # オブジェクト情報を使用\n",
        "    use_force_sensor=True\n",
        ")\n",
        "\n",
        "# GymWrapperを使ってOpenAI Gym互換インターフェースに変換\n",
        "# env = GymWrapper(env)\n",
        "\n",
        "# 環境のリセット\n",
        "obs = env.reset()\n",
        "# 環境の初期状態（力覚データを含む場合、\"robot0_eef_force\"を確認）\n",
        "print(\"Observation:\", obs.keys())  # 力覚データが含まれていることを確認"
      ]
    },
    {
      "cell_type": "markdown",
      "metadata": {
        "id": "eKy-1uif_TRb"
      },
      "source": [
        "## Check device"
      ]
    },
    {
      "cell_type": "code",
      "execution_count": null,
      "metadata": {
        "id": "ogLmXvsB_gPs"
      },
      "outputs": [],
      "source": [
        "# torch.deviceを定義．この変数は後々モデルやデータをGPUに転送する時にも使います\n",
        "device = torch.device(\"cuda\" if torch.cuda.is_available() else \"cpu\")\n",
        "print(device)"
      ]
    },
    {
      "cell_type": "markdown",
      "metadata": {
        "id": "-CxOnj3kzOe5"
      },
      "source": [
        "## マルチモーダルデータの取得"
      ]
    },
    {
      "cell_type": "code",
      "execution_count": null,
      "metadata": {
        "id": "H8KvY313zS7c"
      },
      "outputs": [],
      "source": [
        "low, high = env.action_spec\n",
        "\n",
        "# ランダムなアクションを生成\n",
        "action = np.random.uniform(low=low, high=high, size=low.shape)\n",
        "\n",
        "# 環境を1ステップ進める\n",
        "obs, reward, done, info = env.step(action)\n",
        "\n",
        "# 取得可能な情報を表示\n",
        "print(\"Camera Observation:\", obs[\"frontview_image\"].shape)  # カメラ画像\n",
        "# print(\"Force Sensor Data:\", obs[\"robot0_eef_force\"])  # 力覚データ\n",
        "print(\"Object Position:\", obs[\"cube_pos\"])  # オブジェクトの位置"
      ]
    },
    {
      "cell_type": "markdown",
      "metadata": {
        "id": "54_T5pFN-uTD"
      },
      "source": [
        "## set_seed"
      ]
    },
    {
      "cell_type": "markdown",
      "metadata": {
        "id": "OpdMlxUpvtI7"
      },
      "source": [
        "# モデルの実装\n"
      ]
    },
    {
      "cell_type": "markdown",
      "metadata": {
        "id": "Ucy9NSR8vxgV"
      },
      "source": [
        "## RSSM"
      ]
    },
    {
      "cell_type": "code",
      "execution_count": null,
      "metadata": {
        "id": "zEnpQhwuv2ct"
      },
      "outputs": [],
      "source": [
        "class RSSM(nn.Module):\n",
        "    \"\"\"\n",
        "    RSSMのクラス.\n",
        "\n",
        "    Methods:\n",
        "    --------\n",
        "        recurrent: 決定的状態hをrnnで得る.\n",
        "        get_prior: 確率的状態zの事前分布を得る.\n",
        "        get_posterior: 確率的状態zの事後分布を得る.\n",
        "    \"\"\"\n",
        "    def __init__(self, mlp_hidden_dim: int, h_dim: int, z_dim: int, a_dim: int, n_classes: int, embedding_dim: int):\n",
        "        \"\"\"\n",
        "        コンストラクタ.\n",
        "\n",
        "        Params:\n",
        "        --------\n",
        "            mlp_hidden_dim : int\n",
        "               mlpに通した後の次元数.\n",
        "            h_dim : int\n",
        "               決定的状態hの次元数.\n",
        "            z_dim : int\n",
        "               確率的状態zの次元数.\n",
        "            a_dim : int\n",
        "               行動の次元数.\n",
        "            n_classes : int\n",
        "               確率的状態zのカテゴリ数.\n",
        "            embedding_dim : int\n",
        "               観測画像の埋め込み次元数.\n",
        "        \"\"\"\n",
        "        super().__init__()\n",
        "\n",
        "        self.h_dim = h_dim\n",
        "        self.z_dim = z_dim\n",
        "        self.a_dim = a_dim\n",
        "        self.n_classes = n_classes\n",
        "\n",
        "        # Recurrent model\n",
        "        # h_t = f(h_t-1, z_t-1, a_t-1)\n",
        "        self.z_a_hidden = nn.Linear(z_dim * n_classes + a_dim, mlp_hidden_dim)\n",
        "        self.rnn = nn.GRUCell(mlp_hidden_dim, h_dim)\n",
        "\n",
        "        # Prior prediction\n",
        "        # z_t+1_hat = f(h_t+1)\n",
        "        self.prior_hidden = nn.Linear(h_dim, mlp_hidden_dim)\n",
        "        self.prior_logits = nn.Linear(mlp_hidden_dim, z_dim * n_classes)\n",
        "\n",
        "        # Posterior\n",
        "        # z_t+1 = f(h_t+1, o_t+1)\n",
        "        self.posterior_hidden = nn.Linear(h_dim + embedding_dim, mlp_hidden_dim)\n",
        "        self.posterior_logits = nn.Linear(mlp_hidden_dim, z_dim * n_classes)\n",
        "\n",
        "    def recurrent(self, h_prev: torch.Tensor, z_prev: torch.Tensor, a_prev: torch.Tensor, rnn_hidden: torch.Tensor):\n",
        "        \"\"\"\n",
        "        決定的状態の状態遷移を求めるメソッド. RNNとしてGRUを使用する.\n",
        "        h_t+1 = f(h_t, z_t, a_t)\n",
        "\n",
        "        Params:\n",
        "        -------\n",
        "            h_prev : torch.Tensor (batch size, h_dim)\n",
        "                現在時刻の決定的状態h_t\n",
        "            z_prev : torch.Tensor (batch size, z_dim)\n",
        "                現在時刻の確率的状態z_t\n",
        "            a_prev : torch.Tensor (batch size, a_dim)\n",
        "                現在時刻のアクションa_t\n",
        "\n",
        "        Returns:\n",
        "        -------\n",
        "            h : torch.Tensor (batch size, h_dim)\n",
        "                次時刻の決定的状態h_t+1\n",
        "        \"\"\"\n",
        "        mlp_hidden = F.elu(self.z_a_hidden(torch.cat([z_prev, a_prev], dim=1)))\n",
        "        h = self.rnn(mlp_hidden, rnn_hidden)\n",
        "        return h\n",
        "\n",
        "    def get_prior(self,h: torch.Tensor, detach = False):\n",
        "        \"\"\"\n",
        "        確率的状態zの事前分布を求めるメソッド.\n",
        "        z_t+1_hat ~ p(h_t+1)\n",
        "\n",
        "        Params:\n",
        "            h : torch.Tensor (batch size, h_dim)\n",
        "                次時刻の決定的状態h_t+1.\n",
        "            detach : bool\n",
        "                Trueの場合、detachする.\n",
        "\n",
        "        ---------\n",
        "        Returns:\n",
        "            prior : torch.distributions.Distribution\n",
        "                事前分布を求めるためのカテゴリカル分布.\n",
        "            detached_prior : torch.distributions.Independent\n",
        "                detachされた事前分布を求めるためのカテゴリカル分布.\n",
        "        \"\"\"\n",
        "        mlp_hidden = F.elu(self.prior_hidden(h))\n",
        "        logits = self.prior_logits(mlp_hidden) # (B, z_dim * n_classes,)\n",
        "        logits = logits.reshape(logits.shape[0], self.z_dim, self.n_classes) # (B, z_dim, n_classes)\n",
        "\n",
        "        prior = td.Independent(OneHotCategoricalStraightThrough(logits=logits), 1)\n",
        "        if detach:\n",
        "            detached_prior = td.Independent(OneHotCategoricalStraightThrough(logits=logits.detach()), 1)\n",
        "            return prior, detached_prior\n",
        "        return prior\n",
        "\n",
        "    def get_posterior(self, h: torch.Tensor, embedded_obs: torch.Tensor, detach = False):\n",
        "        \"\"\"\n",
        "        確率的状態zの事後分布を求めるメソッド.\n",
        "        z_t+1 ~ p(h_t+1, o_t+1)\n",
        "\n",
        "        Params:\n",
        "        -------\n",
        "            h : torch.Tensor (batch size, h_dim)\n",
        "                次時刻の決定的状態h_t+1.\n",
        "            embedded_obs : torch.Tensor (batch size, embedding_dim)\n",
        "                次時刻の画像の埋め込み\n",
        "            detach : bool\n",
        "                Trueの場合、detachする.\n",
        "\n",
        "        Returns:\n",
        "        --------\n",
        "            posterior : torch.distributions.Distribution\n",
        "                事後分布を求めるためのカテゴリカル分布.\n",
        "            detached_posterior : torch.distributions.Independent\n",
        "                detachされた事後分布を求めるためのカテゴリカル分布.\n",
        "        \"\"\"\n",
        "        mlp_hidden = F.elu(self.posterior_hidden(torch.cat([h, embedded_obs], dim=1)))\n",
        "        logits = self.posterior_logits(mlp_hidden) # (B, z_dim * n_classes)\n",
        "        logits = logits.reshape(logits.shape[0], self.z_dim, self.n_classes) # (B, z_dim, n_classes)\n",
        "\n",
        "        posterior = td.Independent(OneHotCategoricalStraightThrough(logits=logits), 1)\n",
        "        if detach:\n",
        "            detached_posterior = td.Independent(OneHotCategoricalStraightThrough(logits=logits.detach()), 1)\n",
        "            return posterior, detached_posterior\n",
        "        return posterior"
      ]
    },
    {
      "cell_type": "markdown",
      "metadata": {
        "id": "WMago0IsS1Dq"
      },
      "source": [
        "## Encoder"
      ]
    },
    {
      "cell_type": "code",
      "execution_count": null,
      "metadata": {
        "id": "B5f9vR5_6YrW"
      },
      "outputs": [],
      "source": [
        "class Encoder(nn.Module):\n",
        "    \"\"\"\n",
        "    画像(3, 64, 64)をエンコードする.\n",
        "\n",
        "    Methods:\n",
        "    -------\n",
        "        forward: 観測画像を埋め込む.\n",
        "    \"\"\"\n",
        "    def __init__(self):\n",
        "        super().__init__()\n",
        "\n",
        "        self.conv1 = nn.Conv2d(3, 32, kernel_size=4, stride=2)\n",
        "        self.conv2 = nn.Conv2d(32, 64, kernel_size=4, stride=2)\n",
        "        self.conv3 = nn.Conv2d(64, 128, kernel_size=4, stride=2)\n",
        "        self.conv4 = nn.Conv2d(128, 256, kernel_size=4, stride=2)\n",
        "\n",
        "    def forward(self, obs: torch.Tensor) -> torch.Tensor:\n",
        "        \"\"\"\n",
        "        順伝播を行うメソッド．観測画像をベクトルに埋め込む．\n",
        "        (3, 64, 64) -> (1024, ) にエンコード\n",
        "\n",
        "        Params:\n",
        "        -------\n",
        "            obs : torch.Tensor (batch size, 3, 64, 64)\n",
        "                環境から得られた観測画像．\n",
        "\n",
        "        Returns:\n",
        "        -------\n",
        "            embed : torch.Tensor (batch size, 1024)\n",
        "                観測を1024次元のベクトルに埋め込んだもの．\n",
        "        \"\"\"\n",
        "        embed = F.elu(self.conv1(obs))\n",
        "        embed = F.elu(self.conv2(embed))\n",
        "        embed = F.elu(self.conv3(embed))\n",
        "        embed = F.elu(self.conv4(embed)).reshape(embed.shape[0], -1)\n",
        "        return embed"
      ]
    },
    {
      "cell_type": "markdown",
      "metadata": {
        "id": "3CrHwaS6S3fc"
      },
      "source": [
        "## Decoder"
      ]
    },
    {
      "cell_type": "code",
      "execution_count": null,
      "metadata": {
        "id": "3wS4h5LRS5ni"
      },
      "outputs": [],
      "source": [
        "class Decoder(nn.Module):\n",
        "    \"\"\"\n",
        "    内部状態表現h, zから画像(3, 64, 64)を再構成する.\n",
        "    ただし画像は平均を計算して、その平均で分散１の正規分布から得る.\n",
        "\n",
        "    Methods:\n",
        "        forward: 画像の再構成を行う.\n",
        "    \"\"\"\n",
        "    def __init__(self, h_dim: int, z_dim: int, n_classes: int):\n",
        "        \"\"\"\n",
        "        コンストラクタ．\n",
        "\n",
        "        Params:\n",
        "        --------\n",
        "            h_dim : int\n",
        "                決定的状態hの次元数．\n",
        "            z_dim : int\n",
        "                確率的状態zの次元数．\n",
        "            n_classes : int\n",
        "                確率的状態zのカテゴリ数．\n",
        "        \"\"\"\n",
        "        super().__init__()\n",
        "        self.fc = nn.Linear(h_dim + z_dim * n_classes, 1024)\n",
        "        self.deconv1 = nn.ConvTranspose2d(1024, 128, kernel_size=5, stride=2)\n",
        "        self.deconv2 = nn.ConvTranspose2d(128, 64, kernel_size=5, stride=2)\n",
        "        self.deconv3 = nn.ConvTranspose2d(64, 32, kernel_size=6, stride=2)\n",
        "        self.deconv4 = nn.ConvTranspose2d(32, 3, kernel_size=6, stride=2)\n",
        "\n",
        "    def forward(self, h: torch.Tensor, z: torch.Tensor) -> torch.Tensor:\n",
        "        \"\"\"\n",
        "        順伝播を行うメソッド．内部状態h, zから画像を再構成する．\n",
        "        mean = f(h_t, z_t)\n",
        "        o_t = N(mean, 1)\n",
        "\n",
        "        Params:\n",
        "        --------\n",
        "            h : torch.Tensor (batch size, h_dim)\n",
        "                決定的状態h\n",
        "            z : torch.Tensor (batch size, z_dim * n_classes)\n",
        "                確率的状態z\n",
        "\n",
        "        Returns:\n",
        "        -------\n",
        "            obs_dist : torch.distributions.Independent\n",
        "                再構成された画像を得るための多変量正規分布．\n",
        "        \"\"\"\n",
        "        x = self.fc(torch.cat([h, z], dim=1))\n",
        "        x = x.reshape(x.shape[0], 1024, 1, 1)\n",
        "        x = F.elu(self.deconv1(x))\n",
        "        x = F.elu(self.deconv2(x))\n",
        "        x = F.elu(self.deconv3(x))\n",
        "        mean = self.deconv4(x)\n",
        "        obs_dist = td.Independent(Normal(mean, 1), 3)\n",
        "        return obs_dist\n"
      ]
    },
    {
      "cell_type": "markdown",
      "metadata": {
        "id": "NqLaH-bVcdAY"
      },
      "source": [
        "## Reward Model"
      ]
    },
    {
      "cell_type": "code",
      "execution_count": null,
      "metadata": {
        "id": "kT1UTPlFcfuv"
      },
      "outputs": [],
      "source": [
        "class RewardModel(nn.Module):\n",
        "    \"\"\"\n",
        "    報酬予測モデル.\n",
        "    ただし報酬は平均を計算して、その平均で分散が1の正規分布から得る.\n",
        "\n",
        "    Methods:\n",
        "    -------\n",
        "        forward: 報酬予測を行う.\n",
        "    \"\"\"\n",
        "    def __init__(self, h_dim: int, z_dim: int, n_classes: int, hidden_dim: int):\n",
        "        \"\"\"\n",
        "        コンストラクタ.\n",
        "\n",
        "        Params:\n",
        "        -------\n",
        "            h_dim : int\n",
        "                決定的状態hの次元数.\n",
        "            z_dim : int\n",
        "                確率的状態zの次元数.\n",
        "            n_classes : int\n",
        "                確率的状態zのカテゴリ数.\n",
        "            hidden_dim : int\n",
        "                MLPを通した後のユニット数.\n",
        "\n",
        "        \"\"\"\n",
        "        super().__init__()\n",
        "        self.fc1 = nn.Linear(h_dim + z_dim * n_classes, hidden_dim)\n",
        "        self.fc2 = nn.Linear(hidden_dim, hidden_dim)\n",
        "        self.fc3 = nn.Linear(hidden_dim, hidden_dim)\n",
        "        self.fc4 = nn.Linear(hidden_dim, 1)\n",
        "\n",
        "    def forward(self, h: torch.Tensor, z: torch.Tensor) -> torch.Tensor:\n",
        "        \"\"\"\n",
        "        報酬予測を行うメソッド.\n",
        "        mean = f(h_t, z_t)\n",
        "        r_t = N(mean, 1)\n",
        "\n",
        "        Params:\n",
        "        ----------\n",
        "            h : torch.Tensor (batch size, h_dim)\n",
        "                決定的状態h\n",
        "            z : torch.Tensor (batch size, z_dim * n_classes)\n",
        "                確率的状態z\n",
        "\n",
        "        Returns:\n",
        "        -------\n",
        "            reward_dist : torch.distributions.Independent\n",
        "                報酬予測をするための多変量正規分布.\n",
        "        \"\"\"\n",
        "        x = F.elu(self.fc1(torch.cat([h, z], dim=1)))\n",
        "        x = F.elu(self.fc2(x))\n",
        "        x = F.elu(self.fc3(x))\n",
        "        mean = self.fc4(x)\n",
        "        reward_dist = td.Independent(Normal(mean, 1), 1)\n",
        "        return reward_dist"
      ]
    },
    {
      "cell_type": "markdown",
      "metadata": {
        "id": "ulP85WUBKp4R"
      },
      "source": [
        "## Discount Model\n"
      ]
    },
    {
      "cell_type": "code",
      "execution_count": null,
      "metadata": {
        "id": "50mWXQbCKt6H"
      },
      "outputs": [],
      "source": [
        "class DiscountModel(nn.Module):\n",
        "    \"\"\"\n",
        "    現在のエピソードが終端かどうかを求めるモデル.\n",
        "\n",
        "    Methods:\n",
        "    --------\n",
        "        forward: 終端かどうか予測を行う.\n",
        "    \"\"\"\n",
        "    def __init__(self, h_dim: int, z_dim: int, n_classes: int, hidden_dim: int):\n",
        "        \"\"\"\n",
        "        コンストラクタ.\n",
        "\n",
        "        Params:\n",
        "        -------\n",
        "            h_dim : int\n",
        "                決定的状態hの次元数.\n",
        "            z_dim : int\n",
        "                確率的状態zの次元数.\n",
        "            n_classes : int\n",
        "                確率的状態zのカテゴリ数.\n",
        "            hidden_dim : int\n",
        "                MLPを通した後のユニット数.\n",
        "        \"\"\"\n",
        "        super().__init__()\n",
        "        self.fc1 = nn.Linear(h_dim + z_dim * n_classes, hidden_dim)\n",
        "        self.fc2 = nn.Linear(hidden_dim, hidden_dim)\n",
        "        self.fc3 = nn.Linear(hidden_dim, hidden_dim)\n",
        "        self.fc4 = nn.Linear(hidden_dim, 1)\n",
        "\n",
        "    def forward(self, h: torch.Tensor, z: torch.Tensor) -> torch.Tensor:\n",
        "        \"\"\"\n",
        "        現在のエピソードが終端かどうか求める.\n",
        "        p = f(h_t, z_t)\n",
        "        gamma_t = Bernoulli(p)\n",
        "\n",
        "        Params:\n",
        "        -------\n",
        "            h : torch.Tensor (batch size, h_dim)\n",
        "                決定的状態h\n",
        "            z : torch.Tensor (batch size, z_dim * n_classes)\n",
        "                確率的状態z\n",
        "\n",
        "        Returns:\n",
        "        -------\n",
        "            discount_dist : torch.distributions.Independent\n",
        "                終端かどうか予測を行うベルヌーイ分布\n",
        "        \"\"\"\n",
        "        x = F.elu(self.fc1(torch.cat([h, z], dim=1)))\n",
        "        x = F.elu(self.fc2(x))\n",
        "        x = F.elu(self.fc3(x))\n",
        "        p_logits = self.fc4(x)\n",
        "        discount_dist = td.Independent(Bernoulli(logits=p_logits), 1)\n",
        "        return discount_dist"
      ]
    },
    {
      "cell_type": "markdown",
      "metadata": {
        "id": "sc3et5bZPUEx"
      },
      "source": [
        "## Actor"
      ]
    },
    {
      "cell_type": "code",
      "execution_count": null,
      "metadata": {
        "id": "m6cwAbsdPWlD"
      },
      "outputs": [],
      "source": [
        "class Actor(nn.Module):\n",
        "    \"\"\"\n",
        "    最適行動を出力するモデル.\n",
        "    今回はAtariではないので連続な行動を出力する.\n",
        "\n",
        "    Methods:\n",
        "    -------\n",
        "        forward: 最適行動を出力する.\n",
        "    \"\"\"\n",
        "    def __init__(self, action_dim: int, h_dim: int, z_dim: int, n_classes: int, hidden_dim: int):\n",
        "        \"\"\"\n",
        "        コンストラクタ.\n",
        "\n",
        "        Params:\n",
        "        -------\n",
        "            action_dim : int\n",
        "                行動の次元数.\n",
        "            h_dim : int\n",
        "                決定的状態hの次元数.\n",
        "            z_dim : int\n",
        "                確率的状態zの次元数.\n",
        "            n_classes : int\n",
        "                確率的状態zのカテゴリ数.\n",
        "            hidden_dim : int\n",
        "                MLPを通した後のユニット数.\n",
        "        \"\"\"\n",
        "        super().__init__()\n",
        "        self.fc1 = nn.Linear(h_dim + z_dim * n_classes, hidden_dim)\n",
        "        self.fc2 = nn.Linear(hidden_dim, hidden_dim)\n",
        "        self.fc3 = nn.Linear(hidden_dim, hidden_dim)\n",
        "        self.fc4 = nn.Linear(hidden_dim, hidden_dim)\n",
        "        self.fc_mean = nn.Linear(hidden_dim, action_dim)\n",
        "        self.fc_std = nn.Linear(hidden_dim, action_dim)\n",
        "\n",
        "    def forward(self, h: torch.Tensor, z: torch.Tensor, eval: bool):\n",
        "        \"\"\"\n",
        "        最適行動を出力する.\n",
        "        a_t = f(h_t, z_t)\n",
        "\n",
        "        Params:\n",
        "        -------\n",
        "            h : torch.Tensor (batch size, h_dim)\n",
        "                決定的状態h.\n",
        "            z : torch.Tensor (batch size, z_dim * n_classes)\n",
        "                確率的状態z.\n",
        "            eval : bool\n",
        "                評価モードかどうか.\n",
        "\n",
        "        Returns:\n",
        "        -------\n",
        "            actions : torch.Tensor (batch size, action_dim)\n",
        "                最適行動.\n",
        "            action_log_probs : torch.Tensor (batch size, 1)\n",
        "                最適行動の対数尤度.\n",
        "            action_entropy : torch.Tensor (batch size, 1)\n",
        "                最適行動のエントロピー.\n",
        "        \"\"\"\n",
        "        x = F.elu(self.fc1(torch.cat([h, z], dim=1)))\n",
        "        x = F.elu(self.fc2(x))\n",
        "        x = F.elu(self.fc3(x))\n",
        "        x = F.elu(self.fc4(x))\n",
        "        mean = self.fc_mean(x)\n",
        "        std = F.softplus(self.fc_std(x))\n",
        "\n",
        "        if eval:\n",
        "            actions = torch.tanh(mean) # action spaceを(-1, 1)にしてる. 環境によっては変更必要かも.\n",
        "            return actions, None, None\n",
        "\n",
        "        # Dreamer V2の連続空間でのActorがどうなっているかいまいち分からなかったので、とりあえず以下のように実装しました。\n",
        "        # まずactionを正規分布からサンプルした後、tanh関数に通して(-1, 1)にします。\n",
        "        # 対数尤度を求めるときに、log p(actions) = log Normal(unscaled_actions) * |det(∂unscaled_actions / ∂actions)|(https://arxiv.org/pdf/1801.01290 Appendix C)となります\n",
        "        # tanhの微分は1-tanh^2で、正規分布の分散共分散行列は対角行列なので、ヤコビアンはdiag(1 - tanh^2)となります。\n",
        "        # 間違ってるかもしれません...\n",
        "        action_dist = td.Independent(Normal(mean, std), 1)\n",
        "        unscaled_actions = action_dist.rsample()\n",
        "        actions = torch.tanh(unscaled_actions)\n",
        "\n",
        "        action_log_probs = action_dist.log_prob(unscaled_actions) - torch.log(1 - actions.pow(2) + 1e-7).sum(dim=1, keepdim=True)\n",
        "        action_entropy = action_dist.entropy()\n",
        "        return actions, action_log_probs, action_entropy"
      ]
    },
    {
      "cell_type": "markdown",
      "metadata": {
        "id": "GarQGZjT0nNy"
      },
      "source": [
        "## Critic"
      ]
    },
    {
      "cell_type": "code",
      "execution_count": null,
      "metadata": {
        "id": "Ywfm04w10piP"
      },
      "outputs": [],
      "source": [
        "class Critic(nn.Module):\n",
        "    \"\"\"\n",
        "    状態価値を出力するモデル.\n",
        "\n",
        "    Methods:\n",
        "    --------\n",
        "        forward: 状態価値を出力する.\n",
        "    \"\"\"\n",
        "    def __init__(self, h_dim: int, z_dim: int, n_classes: int, hidden_dim: int):\n",
        "        \"\"\"\n",
        "        コンストラクタ.\n",
        "\n",
        "        params:\n",
        "        -------\n",
        "            h_dim : int\n",
        "                決定的状態hの次元数.\n",
        "            z_dim : int\n",
        "                確率的状態zの次元数.\n",
        "            n_classes : int\n",
        "                確率的状態zのカテゴリ数.\n",
        "            hidden_dim : int\n",
        "                MLPを通した後のユニット数.\n",
        "        \"\"\"\n",
        "        super().__init__()\n",
        "        self.fc1 = nn.Linear(h_dim + z_dim * n_classes, hidden_dim)\n",
        "        self.fc2 = nn.Linear(hidden_dim, hidden_dim)\n",
        "        self.fc3 = nn.Linear(hidden_dim, hidden_dim)\n",
        "        self.fc4 = nn.Linear(hidden_dim, hidden_dim)\n",
        "        self.out = nn.Linear(hidden_dim, 1)\n",
        "\n",
        "    def forward(self, h: torch.Tensor, z: torch.Tensor):\n",
        "        \"\"\"\n",
        "        状態価値を出力する.\n",
        "        v_t = f(h_t, z_t)\n",
        "\n",
        "        Params:\n",
        "        -------\n",
        "            h : torch.Tensor (batch size, h_dim)\n",
        "                決定的状態h.\n",
        "            z : torch.Tensor (batch size, z_dim * n_classes)\n",
        "                確率的状態z.\n",
        "\n",
        "        Return:\n",
        "        -------\n",
        "            values : torch.Tensor (batch size, 1)\n",
        "                状態価値.\n",
        "        \"\"\"\n",
        "        x = F.elu(self.fc1(torch.cat([h, z], dim=1)))\n",
        "        x = F.elu(self.fc2(x))\n",
        "        x = F.elu(self.fc3(x))\n",
        "        x = F.elu(self.fc4(x))\n",
        "        values = self.out(x)\n",
        "        return values"
      ]
    },
    {
      "cell_type": "markdown",
      "metadata": {
        "id": "mPznwrXrB-wD"
      },
      "source": [
        "# その他機能"
      ]
    },
    {
      "cell_type": "markdown",
      "metadata": {
        "id": "parOAYbvCCP5"
      },
      "source": [
        "## Replay Buffer\n"
      ]
    },
    {
      "cell_type": "code",
      "execution_count": null,
      "metadata": {
        "id": "7RSO7DksDr36"
      },
      "outputs": [],
      "source": [
        "class ReplayBuffer:\n",
        "    \"\"\"\n",
        "    リプレイバッファ.\n",
        "    \"\"\"\n",
        "    def __init__(self, capacity: int, obs_shape: tuple[int], action_dim: int):\n",
        "        \"\"\"\n",
        "        コンストラクタ.\n",
        "\n",
        "        Params:\n",
        "        -------\n",
        "            capacity : int\n",
        "                バッファの最大容量.\n",
        "            obs_shape : tuple[int]\n",
        "                観測の形状.\n",
        "            action_dim : int\n",
        "                行動の次元数.\n",
        "        \"\"\"\n",
        "        self.capacity = capacity\n",
        "        self.obs_shape = obs_shape\n",
        "        self.action_dim = action_dim\n",
        "\n",
        "        self.observations = np.zeros((capacity, *obs_shape), dtype=np.float32)\n",
        "        self.actions = np.zeros((capacity, action_dim), dtype=np.float32)\n",
        "        self.rewards = np.zeros((capacity, 1), dtype=np.float32)\n",
        "        self.dones = np.zeros((capacity, 1), dtype=bool)\n",
        "        self.index = 0\n",
        "        self.is_filled = False\n",
        "\n",
        "    def add(self, observation: np.ndarray, action: np.ndarray, reward: float, done: bool):\n",
        "        \"\"\"\n",
        "        バッファに追加する.\n",
        "\n",
        "        Params:\n",
        "        -------\n",
        "            observation : np.ndarray (obs_shape)\n",
        "                観測.\n",
        "            action : np.ndarray (action_dim)\n",
        "                行動.\n",
        "            reward : float\n",
        "                報酬.\n",
        "            done : bool\n",
        "                エピソードの終了.\n",
        "        \"\"\"\n",
        "        self.observations[self.index] = observation\n",
        "        self.actions[self.index] = action\n",
        "        self.rewards[self.index] = reward\n",
        "        self.dones[self.index] = done\n",
        "\n",
        "        if self.index == self.capacity - 1:\n",
        "            self.is_filled = True\n",
        "        self.index = (self.index + 1) % self.capacity\n",
        "\n",
        "    def sample(self, batch_size: int, chunk_length: int) -> tuple[np.ndarray, np.ndarray, np.ndarray, np.ndarray, np.ndarray]:\n",
        "        \"\"\"\n",
        "        バッファからサンプリングする.\n",
        "\n",
        "        Params:\n",
        "        -------\n",
        "            batch_size : int\n",
        "                サンプリングするデータの数.\n",
        "\n",
        "            chunk_length : int\n",
        "                chunkの長さ\n",
        "\n",
        "        Returns:\n",
        "        --------\n",
        "            sampled_observations : np.ndarray\n",
        "                サンプリングされた観測.\n",
        "            sampled_actions : np.ndarray\n",
        "                サンプリングされた行動.\n",
        "            sampled_rewards : np.ndarray\n",
        "                サンプリングされた報酬.\n",
        "            sampled_dones : np.ndarray\n",
        "                サンプリングされたエピソードの終了判定.\n",
        "        \"\"\"\n",
        "        episode_borders = np.where(self.dones)[0] # episodeが終了するindex\n",
        "        sampled_indices = []\n",
        "        for _ in range(batch_size):\n",
        "            crossed_border = True # borderを跨いだかどうか\n",
        "            while crossed_border:\n",
        "                initial_idx = np.random.randint(self.capacity - chunk_length + 1)\n",
        "                final_idx = initial_idx + chunk_length - 1\n",
        "                crossed_border = np.logical_and(initial_idx <= episode_borders,\n",
        "                                                episode_borders < final_idx).any()\n",
        "            sampled_indices += list(range(initial_idx, final_idx + 1)) # 最終的に(batch_size * chunk_length)\n",
        "\n",
        "        sampled_observations = self.observations[sampled_indices].reshape(\n",
        "            batch_size, chunk_length, *self.obs_shape)\n",
        "        sampled_actions = self.actions[sampled_indices].reshape(\n",
        "            batch_size, chunk_length, self.action_dim)\n",
        "        sampled_rewards = self.rewards[sampled_indices].reshape(\n",
        "            batch_size, chunk_length, 1)\n",
        "        sampled_dones = self.dones[sampled_indices].reshape(\n",
        "            batch_size, chunk_length, 1)\n",
        "        return sampled_observations, sampled_actions, sampled_rewards, sampled_dones\n",
        "\n",
        "    def save(self, dir: str):\n",
        "        np.save(f\"{dir}/observations.npy\", self.observations)\n",
        "        np.save(f\"{dir}/actions.npy\", self.actions)\n",
        "        np.save(f\"{dir}/rewards.npy\", self.rewards)\n",
        "        np.save(f\"{dir}/dones.npy\", self.dones)\n",
        "\n",
        "    def load(self, dir: str):\n",
        "        self.observations = np.load(f\"{dir}/observations.npy\")\n",
        "        self.actions = np.load(f\"{dir}/actions.npy\")\n",
        "        self.rewards = np.load(f\"{dir}/rewards.npy\")\n",
        "        self.dones = np.load(f\"{dir}/dones.npy\")\n"
      ]
    },
    {
      "cell_type": "markdown",
      "metadata": {
        "id": "tk0BYp-bDWFJ"
      },
      "source": [
        "## calculate λ-target  \n",
        "元論文ではλ: 0.95, H=15  \n",
        "![image.png](data:image/png;base64,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)"
      ]
    },
    {
      "cell_type": "code",
      "execution_count": null,
      "metadata": {
        "id": "ZkmfL-4uDdUd"
      },
      "outputs": [],
      "source": [
        "def calculate_lambda_target(rewards: torch.Tensor, discounts: torch.Tensor, values: torch.Tensor, lambda_: float):\n",
        "    \"\"\"\n",
        "    λ-targetを計算する.\n",
        "\n",
        "    Params:\n",
        "    -------\n",
        "        rewards : torch.Tensor (imagination_horizon, D)\n",
        "            報酬. 1次元目が時刻tを表しており、2次元目は自由な変数で、想像の軌道を作成するとき入力されるindex.\n",
        "        discounts : torch.Tensor (imagination_horizon, D)\n",
        "            割引率. gammaそのままでなくDiscount Modelの出力を掛ける.\n",
        "        values : torch.Tensor (imagination_horizon, D)\n",
        "            状態価値.\n",
        "        lambda_ : float\n",
        "            λ. 元論文ではλ=0.95\n",
        "\n",
        "    Returns:\n",
        "    -------\n",
        "        V_lambda : torch.Tensor (imagination_horizon, D)\n",
        "            lambda_targetの値.\n",
        "    \"\"\"\n",
        "    V_lambda = torch.zeros_like(rewards)\n",
        "\n",
        "    for t in reversed(range(rewards.shape[0])):\n",
        "        if t == rewards.shape[0] - 1: # t = H(下の条件式)\n",
        "            V_lambda[t] = rewards[t] + discounts[t] * values[t]\n",
        "        else:\n",
        "            V_lambda[t] = rewards[t] + discounts[t] * ((1 - lambda_) * values[t+1] + lambda_ * V_lambda[t+1])\n",
        "\n",
        "    return V_lambda"
      ]
    }
  ],
  "metadata": {
    "colab": {
      "provenance": [],
      "toc_visible": true,
      "gpuType": "T4",
      "include_colab_link": true
    },
    "kernelspec": {
      "display_name": "Python 3",
      "name": "python3"
    },
    "language_info": {
      "codemirror_mode": {
        "name": "ipython",
        "version": 3
      },
      "file_extension": ".py",
      "mimetype": "text/x-python",
      "name": "python",
      "nbconvert_exporter": "python",
      "pygments_lexer": "ipython3",
      "version": "3.11.7"
    },
    "accelerator": "GPU"
  },
  "nbformat": 4,
  "nbformat_minor": 0
}